{
 "cells": [
  {
   "cell_type": "code",
   "execution_count": 1,
   "id": "9fc54a5d",
   "metadata": {},
   "outputs": [],
   "source": [
    "import pandas as pd\n",
    "import numpy as np\n",
    "from sklearn.model_selection import train_test_split\n",
    "from sklearn.preprocessing import MinMaxScaler\n",
    "from sklearn.ensemble import RandomForestRegressor\n",
    "from sklearn.preprocessing import OneHotEncoder"
   ]
  },
  {
   "cell_type": "code",
   "execution_count": 2,
   "id": "824ef1af",
   "metadata": {},
   "outputs": [],
   "source": [
    "df=pd.read_csv('models_data.csv')\n",
    "target=pd.read_csv('targets.csv')"
   ]
  },
  {
   "cell_type": "code",
   "execution_count": 11,
   "id": "f25cf82b",
   "metadata": {},
   "outputs": [],
   "source": [
    "X=df\n",
    "y=target.environment_score"
   ]
  },
  {
   "cell_type": "code",
   "execution_count": 12,
   "id": "33a72d1e",
   "metadata": {},
   "outputs": [
    {
     "name": "stderr",
     "output_type": "stream",
     "text": [
      "C:\\Users\\sabba\\AppData\\Local\\Temp\\ipykernel_34508\\2029989595.py:4: DeprecationWarning: `np.object` is a deprecated alias for the builtin `object`. To silence this warning, use `object` by itself. Doing this will not modify any behavior and is safe. \n",
      "Deprecated in NumPy 1.20; for more details and guidance: https://numpy.org/devdocs/release/1.20.0-notes.html#deprecations\n",
      "  train_cat=X_train.select_dtypes(include=np.object)\n",
      "C:\\Users\\sabba\\AppData\\Local\\Temp\\ipykernel_34508\\2029989595.py:7: DeprecationWarning: `np.object` is a deprecated alias for the builtin `object`. To silence this warning, use `object` by itself. Doing this will not modify any behavior and is safe. \n",
      "Deprecated in NumPy 1.20; for more details and guidance: https://numpy.org/devdocs/release/1.20.0-notes.html#deprecations\n",
      "  test_cat=X_test.select_dtypes(include=np.object)\n"
     ]
    }
   ],
   "source": [
    "X_train, X_test, y_train, y_test = train_test_split(X, y, test_size=0.2, random_state=42)\n",
    "\n",
    "train_num=X_train.select_dtypes(include=np.number)\n",
    "train_cat=X_train.select_dtypes(include=np.object)\n",
    "\n",
    "test_num=X_test.select_dtypes(include=np.number)\n",
    "test_cat=X_test.select_dtypes(include=np.object)\n",
    "\n",
    "from sklearn.preprocessing import OneHotEncoder\n",
    "\n",
    "encoder = OneHotEncoder(handle_unknown='ignore').fit(train_cat)\n",
    "column_name = encoder.get_feature_names_out(train_cat.columns)\n",
    "\n",
    "train_encoded = pd.DataFrame(encoder.transform(train_cat).toarray(), columns=column_name, index=train_cat.index)\n",
    "test_encoded = pd.DataFrame(encoder.transform(test_cat).toarray(), columns=column_name, index=test_cat.index)\n",
    "\n",
    "X_train_encoded=pd.concat([train_encoded, train_num], axis=1)\n",
    "X_test_encoded=pd.concat([test_encoded, test_num], axis=1)\n",
    "\n",
    "transformer = MinMaxScaler().fit(X_train_encoded)\n",
    "X_train = pd.DataFrame(transformer.transform(X_train_encoded), columns=X_train_encoded.columns, index=X_train_encoded.index)\n",
    "X_test = pd.DataFrame(transformer.transform(X_test_encoded), columns=X_test_encoded.columns, index=X_test_encoded.index)\n"
   ]
  },
  {
   "cell_type": "code",
   "execution_count": 13,
   "id": "ce4e3585",
   "metadata": {},
   "outputs": [
    {
     "name": "stdout",
     "output_type": "stream",
     "text": [
      "0.8374944839824785\n",
      "0.4692966650296726\n",
      "mse: 12.725425675587747\n",
      "rmse: 3.567271460877031\n",
      "Wall time: 187 ms\n"
     ]
    }
   ],
   "source": [
    "%%time\n",
    "random = RandomForestRegressor(n_estimators=100,\n",
    "                             max_depth=100,\n",
    "                             min_samples_split=3,\n",
    "                             min_samples_leaf = 3,\n",
    "                             max_features = 5)\n",
    "random.fit(X_train, y_train)\n",
    "y_pred_random = random.predict(X_test)\n",
    "\n",
    "from sklearn.metrics import mean_squared_error\n",
    "import math\n",
    "\n",
    "mse_random = mean_squared_error(y_test, y_pred_random)\n",
    " \n",
    "rmse_random = math.sqrt(mse_random)\n",
    "print(random.score(X_train, y_train))\n",
    "print(random.score(X_test, y_test))\n",
    "print('mse:', mse_random)\n",
    "print('rmse:', rmse_random)"
   ]
  },
  {
   "cell_type": "code",
   "execution_count": 14,
   "id": "455590da",
   "metadata": {},
   "outputs": [],
   "source": [
    "from pickle import dump"
   ]
  },
  {
   "cell_type": "code",
   "execution_count": 15,
   "id": "5c9dc7c6",
   "metadata": {},
   "outputs": [],
   "source": [
    "dump(random, open('model.pkl', 'wb'))\n",
    "dump(transformer, open('scaler.pkl', 'wb'))\n",
    "dump(encoder, open('encoder.pkl', 'wb'))"
   ]
  },
  {
   "cell_type": "markdown",
   "id": "61e21b8f",
   "metadata": {},
   "source": [
    "## Model for Social"
   ]
  },
  {
   "cell_type": "code",
   "execution_count": 16,
   "id": "b2cea89b",
   "metadata": {},
   "outputs": [],
   "source": [
    "X=df\n",
    "y=target.social_score"
   ]
  },
  {
   "cell_type": "code",
   "execution_count": 17,
   "id": "3a584b3f",
   "metadata": {},
   "outputs": [
    {
     "name": "stderr",
     "output_type": "stream",
     "text": [
      "C:\\Users\\sabba\\AppData\\Local\\Temp\\ipykernel_34508\\4149027231.py:4: DeprecationWarning: `np.object` is a deprecated alias for the builtin `object`. To silence this warning, use `object` by itself. Doing this will not modify any behavior and is safe. \n",
      "Deprecated in NumPy 1.20; for more details and guidance: https://numpy.org/devdocs/release/1.20.0-notes.html#deprecations\n",
      "  train_cat=X_train.select_dtypes(include=np.object)\n",
      "C:\\Users\\sabba\\AppData\\Local\\Temp\\ipykernel_34508\\4149027231.py:7: DeprecationWarning: `np.object` is a deprecated alias for the builtin `object`. To silence this warning, use `object` by itself. Doing this will not modify any behavior and is safe. \n",
      "Deprecated in NumPy 1.20; for more details and guidance: https://numpy.org/devdocs/release/1.20.0-notes.html#deprecations\n",
      "  test_cat=X_test.select_dtypes(include=np.object)\n"
     ]
    }
   ],
   "source": [
    "X_train, X_test, y_train, y_test = train_test_split(X, y, test_size=0.2, random_state=42)\n",
    "\n",
    "train_num=X_train.select_dtypes(include=np.number)\n",
    "train_cat=X_train.select_dtypes(include=np.object)\n",
    "\n",
    "test_num=X_test.select_dtypes(include=np.number)\n",
    "test_cat=X_test.select_dtypes(include=np.object)\n",
    "\n",
    "from sklearn.preprocessing import OneHotEncoder\n",
    "\n",
    "encoder = OneHotEncoder(handle_unknown='ignore').fit(train_cat)\n",
    "column_name = encoder.get_feature_names_out(train_cat.columns)\n",
    "\n",
    "train_encoded = pd.DataFrame(encoder.transform(train_cat).toarray(), columns=column_name, index=train_cat.index)\n",
    "test_encoded = pd.DataFrame(encoder.transform(test_cat).toarray(), columns=column_name, index=test_cat.index)\n",
    "\n",
    "X_train_encoded=pd.concat([train_encoded, train_num], axis=1)\n",
    "X_test_encoded=pd.concat([test_encoded, test_num], axis=1)\n",
    "\n",
    "transformer = MinMaxScaler().fit(X_train_encoded)\n",
    "X_train = pd.DataFrame(transformer.transform(X_train_encoded), columns=X_train_encoded.columns, index=X_train_encoded.index)\n",
    "X_test = pd.DataFrame(transformer.transform(X_test_encoded), columns=X_test_encoded.columns, index=X_test_encoded.index)"
   ]
  },
  {
   "cell_type": "code",
   "execution_count": 18,
   "id": "6f38b8e2",
   "metadata": {},
   "outputs": [
    {
     "name": "stdout",
     "output_type": "stream",
     "text": [
      "0.7388422695081138\n",
      "0.17740119352028105\n",
      "mse: 11.569734965594698\n",
      "rmse: 3.4014313113150907\n",
      "Wall time: 178 ms\n"
     ]
    }
   ],
   "source": [
    "%%time\n",
    "random = RandomForestRegressor(n_estimators=100,\n",
    "                             max_depth=100,\n",
    "                             min_samples_split=3,\n",
    "                             min_samples_leaf = 3,\n",
    "                             max_features = 5)\n",
    "random.fit(X_train, y_train)\n",
    "y_pred_random = random.predict(X_test)\n",
    "\n",
    "from sklearn.metrics import mean_squared_error\n",
    "import math\n",
    "\n",
    "mse_random = mean_squared_error(y_test, y_pred_random)\n",
    " \n",
    "rmse_random = math.sqrt(mse_random)\n",
    "print(random.score(X_train, y_train))\n",
    "print(random.score(X_test, y_test))\n",
    "print('mse:', mse_random)\n",
    "print('rmse:', rmse_random)"
   ]
  },
  {
   "cell_type": "code",
   "execution_count": 19,
   "id": "40531938",
   "metadata": {},
   "outputs": [],
   "source": [
    "dump(random, open('model2.pkl', 'wb'))\n",
    "dump(transformer, open('scaler2.pkl', 'wb'))\n",
    "dump(encoder, open('encoder2.pkl', 'wb'))"
   ]
  },
  {
   "cell_type": "markdown",
   "id": "35ed9a41",
   "metadata": {},
   "source": [
    "## Governance"
   ]
  },
  {
   "cell_type": "code",
   "execution_count": 20,
   "id": "edc0f685",
   "metadata": {},
   "outputs": [],
   "source": [
    "X=df\n",
    "y=target.governance_score"
   ]
  },
  {
   "cell_type": "code",
   "execution_count": 21,
   "id": "fd40683a",
   "metadata": {},
   "outputs": [
    {
     "name": "stderr",
     "output_type": "stream",
     "text": [
      "C:\\Users\\sabba\\AppData\\Local\\Temp\\ipykernel_34508\\4149027231.py:4: DeprecationWarning: `np.object` is a deprecated alias for the builtin `object`. To silence this warning, use `object` by itself. Doing this will not modify any behavior and is safe. \n",
      "Deprecated in NumPy 1.20; for more details and guidance: https://numpy.org/devdocs/release/1.20.0-notes.html#deprecations\n",
      "  train_cat=X_train.select_dtypes(include=np.object)\n",
      "C:\\Users\\sabba\\AppData\\Local\\Temp\\ipykernel_34508\\4149027231.py:7: DeprecationWarning: `np.object` is a deprecated alias for the builtin `object`. To silence this warning, use `object` by itself. Doing this will not modify any behavior and is safe. \n",
      "Deprecated in NumPy 1.20; for more details and guidance: https://numpy.org/devdocs/release/1.20.0-notes.html#deprecations\n",
      "  test_cat=X_test.select_dtypes(include=np.object)\n"
     ]
    }
   ],
   "source": [
    "X_train, X_test, y_train, y_test = train_test_split(X, y, test_size=0.2, random_state=42)\n",
    "\n",
    "train_num=X_train.select_dtypes(include=np.number)\n",
    "train_cat=X_train.select_dtypes(include=np.object)\n",
    "\n",
    "test_num=X_test.select_dtypes(include=np.number)\n",
    "test_cat=X_test.select_dtypes(include=np.object)\n",
    "\n",
    "from sklearn.preprocessing import OneHotEncoder\n",
    "\n",
    "encoder = OneHotEncoder(handle_unknown='ignore').fit(train_cat)\n",
    "column_name = encoder.get_feature_names_out(train_cat.columns)\n",
    "\n",
    "train_encoded = pd.DataFrame(encoder.transform(train_cat).toarray(), columns=column_name, index=train_cat.index)\n",
    "test_encoded = pd.DataFrame(encoder.transform(test_cat).toarray(), columns=column_name, index=test_cat.index)\n",
    "\n",
    "X_train_encoded=pd.concat([train_encoded, train_num], axis=1)\n",
    "X_test_encoded=pd.concat([test_encoded, test_num], axis=1)\n",
    "\n",
    "transformer = MinMaxScaler().fit(X_train_encoded)\n",
    "X_train = pd.DataFrame(transformer.transform(X_train_encoded), columns=X_train_encoded.columns, index=X_train_encoded.index)\n",
    "X_test = pd.DataFrame(transformer.transform(X_test_encoded), columns=X_test_encoded.columns, index=X_test_encoded.index)"
   ]
  },
  {
   "cell_type": "code",
   "execution_count": 22,
   "id": "302c56a0",
   "metadata": {},
   "outputs": [
    {
     "name": "stdout",
     "output_type": "stream",
     "text": [
      "0.7906588144137942\n",
      "0.5168308988923782\n",
      "mse: 3.3962290407764013\n",
      "rmse: 1.8428860628851695\n",
      "Wall time: 177 ms\n"
     ]
    }
   ],
   "source": [
    "%%time\n",
    "random = RandomForestRegressor(n_estimators=100,\n",
    "                             max_depth=100,\n",
    "                             min_samples_split=3,\n",
    "                             min_samples_leaf = 3,\n",
    "                             max_features = 5)\n",
    "random.fit(X_train, y_train)\n",
    "y_pred_random = random.predict(X_test)\n",
    "\n",
    "from sklearn.metrics import mean_squared_error\n",
    "import math\n",
    "\n",
    "mse_random = mean_squared_error(y_test, y_pred_random)\n",
    " \n",
    "rmse_random = math.sqrt(mse_random)\n",
    "print(random.score(X_train, y_train))\n",
    "print(random.score(X_test, y_test))\n",
    "print('mse:', mse_random)\n",
    "print('rmse:', rmse_random)"
   ]
  },
  {
   "cell_type": "code",
   "execution_count": 23,
   "id": "ca96747f",
   "metadata": {},
   "outputs": [],
   "source": [
    "dump(random, open('model3.pkl', 'wb'))\n",
    "dump(transformer, open('scaler3.pkl', 'wb'))\n",
    "dump(encoder, open('encoder3.pkl', 'wb'))"
   ]
  },
  {
   "cell_type": "markdown",
   "id": "d2af3d5a",
   "metadata": {},
   "source": [
    "## ESG Overall"
   ]
  },
  {
   "cell_type": "code",
   "execution_count": 24,
   "id": "e7480b21",
   "metadata": {},
   "outputs": [],
   "source": [
    "X=df\n",
    "y=target.esg_score"
   ]
  },
  {
   "cell_type": "code",
   "execution_count": 25,
   "id": "8b9bacb2",
   "metadata": {},
   "outputs": [
    {
     "name": "stderr",
     "output_type": "stream",
     "text": [
      "C:\\Users\\sabba\\AppData\\Local\\Temp\\ipykernel_34508\\4149027231.py:4: DeprecationWarning: `np.object` is a deprecated alias for the builtin `object`. To silence this warning, use `object` by itself. Doing this will not modify any behavior and is safe. \n",
      "Deprecated in NumPy 1.20; for more details and guidance: https://numpy.org/devdocs/release/1.20.0-notes.html#deprecations\n",
      "  train_cat=X_train.select_dtypes(include=np.object)\n",
      "C:\\Users\\sabba\\AppData\\Local\\Temp\\ipykernel_34508\\4149027231.py:7: DeprecationWarning: `np.object` is a deprecated alias for the builtin `object`. To silence this warning, use `object` by itself. Doing this will not modify any behavior and is safe. \n",
      "Deprecated in NumPy 1.20; for more details and guidance: https://numpy.org/devdocs/release/1.20.0-notes.html#deprecations\n",
      "  test_cat=X_test.select_dtypes(include=np.object)\n"
     ]
    }
   ],
   "source": [
    "X_train, X_test, y_train, y_test = train_test_split(X, y, test_size=0.2, random_state=42)\n",
    "\n",
    "train_num=X_train.select_dtypes(include=np.number)\n",
    "train_cat=X_train.select_dtypes(include=np.object)\n",
    "\n",
    "test_num=X_test.select_dtypes(include=np.number)\n",
    "test_cat=X_test.select_dtypes(include=np.object)\n",
    "\n",
    "from sklearn.preprocessing import OneHotEncoder\n",
    "\n",
    "encoder = OneHotEncoder(handle_unknown='ignore').fit(train_cat)\n",
    "column_name = encoder.get_feature_names_out(train_cat.columns)\n",
    "\n",
    "train_encoded = pd.DataFrame(encoder.transform(train_cat).toarray(), columns=column_name, index=train_cat.index)\n",
    "test_encoded = pd.DataFrame(encoder.transform(test_cat).toarray(), columns=column_name, index=test_cat.index)\n",
    "\n",
    "X_train_encoded=pd.concat([train_encoded, train_num], axis=1)\n",
    "X_test_encoded=pd.concat([test_encoded, test_num], axis=1)\n",
    "\n",
    "transformer = MinMaxScaler().fit(X_train_encoded)\n",
    "X_train = pd.DataFrame(transformer.transform(X_train_encoded), columns=X_train_encoded.columns, index=X_train_encoded.index)\n",
    "X_test = pd.DataFrame(transformer.transform(X_test_encoded), columns=X_test_encoded.columns, index=X_test_encoded.index)"
   ]
  },
  {
   "cell_type": "code",
   "execution_count": 26,
   "id": "a15cde2b",
   "metadata": {},
   "outputs": [
    {
     "name": "stdout",
     "output_type": "stream",
     "text": [
      "0.787912267410733\n",
      "0.3021535350878175\n",
      "mse: 31.577697647127188\n",
      "rmse: 5.619403673622958\n",
      "Wall time: 171 ms\n"
     ]
    }
   ],
   "source": [
    "%%time\n",
    "random = RandomForestRegressor(n_estimators=100,\n",
    "                             max_depth=100,\n",
    "                             min_samples_split=3,\n",
    "                             min_samples_leaf = 3,\n",
    "                             max_features = 5)\n",
    "random.fit(X_train, y_train)\n",
    "y_pred_random = random.predict(X_test)\n",
    "\n",
    "from sklearn.metrics import mean_squared_error\n",
    "import math\n",
    "\n",
    "mse_random = mean_squared_error(y_test, y_pred_random)\n",
    " \n",
    "rmse_random = math.sqrt(mse_random)\n",
    "print(random.score(X_train, y_train))\n",
    "print(random.score(X_test, y_test))\n",
    "print('mse:', mse_random)\n",
    "print('rmse:', rmse_random)"
   ]
  },
  {
   "cell_type": "code",
   "execution_count": 27,
   "id": "ffb5fe3f",
   "metadata": {},
   "outputs": [],
   "source": [
    "dump(random, open('model4.pkl', 'wb'))\n",
    "dump(transformer, open('scaler4.pkl', 'wb'))\n",
    "dump(encoder, open('encoder4.pkl', 'wb'))"
   ]
  },
  {
   "cell_type": "code",
   "execution_count": null,
   "id": "381d7d90",
   "metadata": {},
   "outputs": [],
   "source": []
  }
 ],
 "metadata": {
  "kernelspec": {
   "display_name": "Python 3 (ipykernel)",
   "language": "python",
   "name": "python3"
  },
  "language_info": {
   "codemirror_mode": {
    "name": "ipython",
    "version": 3
   },
   "file_extension": ".py",
   "mimetype": "text/x-python",
   "name": "python",
   "nbconvert_exporter": "python",
   "pygments_lexer": "ipython3",
   "version": "3.9.13"
  }
 },
 "nbformat": 4,
 "nbformat_minor": 5
}
